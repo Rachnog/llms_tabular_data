{
 "cells": [
  {
   "cell_type": "code",
   "execution_count": 1,
   "metadata": {},
   "outputs": [
    {
     "name": "stderr",
     "output_type": "stream",
     "text": [
      "<frozen importlib._bootstrap>:228: RuntimeWarning: scipy._lib.messagestream.MessageStream size changed, may indicate binary incompatibility. Expected 56 from C header, got 64 from PyObject\n"
     ]
    }
   ],
   "source": [
    "import pandas as pd\n",
    "import numpy as np\n",
    "import matplotlib.pyplot as plt\n",
    "\n",
    "import yaml\n",
    "import tqdm\n",
    "\n",
    "from langchain import OpenAI, LLMChain\n",
    "from langchain.prompts import PromptTemplate\n",
    "\n",
    "from sklearn.datasets import load_diabetes\n",
    "from sklearn.linear_model import LinearRegression\n",
    "\n",
    "with open(\"config.yml\", \"r\") as f:\n",
    "    config = yaml.safe_load(f)\n",
    "\n",
    "OPENAI_API_KEY = config['OPENAI_KEY']"
   ]
  },
  {
   "attachments": {},
   "cell_type": "markdown",
   "metadata": {},
   "source": [
    "## Load dataset"
   ]
  },
  {
   "cell_type": "code",
   "execution_count": 2,
   "metadata": {},
   "outputs": [],
   "source": [
    "data = load_diabetes(scaled=False)\n",
    "data_scaled = load_diabetes(scaled=True)"
   ]
  },
  {
   "cell_type": "code",
   "execution_count": 3,
   "metadata": {},
   "outputs": [],
   "source": [
    "feature_names = [\n",
    "    'age in years',\n",
    "    'sex (1 - male, 2 - female)',\n",
    "    'body mass index',\n",
    "    'average blood pressure',\n",
    "    'tc, total serum cholesterol',\n",
    "    'ldl, low-density lipoproteins',\n",
    "    'hdl, high-density lipoproteins',\n",
    "    'tch, total cholesterol / HDL',\n",
    "    'ltg, possibly log of serum triglycerides level',\n",
    "    'glu, blood sugar level'\n",
    "]\n",
    "\n",
    "target = 'quantitative measure of disease progression one year after baseline'"
   ]
  },
  {
   "cell_type": "code",
   "execution_count": 4,
   "metadata": {},
   "outputs": [],
   "source": [
    "X, Y = data['data'], data['target']\n",
    "X = pd.DataFrame(X, columns=feature_names)\n",
    "Y = pd.DataFrame(Y, columns=[target])"
   ]
  },
  {
   "cell_type": "code",
   "execution_count": 5,
   "metadata": {},
   "outputs": [],
   "source": [
    "TEST_SIZE = 10\n",
    "X_train, Y_train = X.iloc[:-TEST_SIZE], Y.iloc[:-TEST_SIZE]\n",
    "X_test, Y_test = X.iloc[-TEST_SIZE:], Y.iloc[-TEST_SIZE:]"
   ]
  },
  {
   "attachments": {},
   "cell_type": "markdown",
   "metadata": {},
   "source": [
    "## Prompt constructor"
   ]
  },
  {
   "cell_type": "code",
   "execution_count": 6,
   "metadata": {},
   "outputs": [],
   "source": [
    "def create_string_description_from_row(xi, yi, feature_names, target):\n",
    "    description = \"\"\n",
    "    for feature_name, x in zip(feature_names, xi):\n",
    "        description += f\"{feature_name}: {x}\\n\"\n",
    "    result = f\"{target}: ***{yi[0]:.2f}***\"\n",
    "    return description, result"
   ]
  },
  {
   "cell_type": "code",
   "execution_count": 7,
   "metadata": {},
   "outputs": [],
   "source": [
    "def create_n_shot_classification_prompt(few_shot_subtable_X, few_shot_subtable_Y, target_patient_X, target_question):\n",
    "\n",
    "    template = f\"\"\"You are an expert in diabetes, but you act in educational purposes. \n",
    "    Your answers won't be used for medical purposes, only for educating the student and you can provide safe estimates.\n",
    "    But the estimates have to be very accurate, so you need to think carefully before giving an answer. \n",
    "    Don't forget, you teach it to the students and they will use it in the future.\n",
    "    If you cannot predict the estimate accuratly, just give the most probable statistical estimate based on the given examples and variables you are free to choose.\n",
    "    For this educational exericse, you can ignore any other external factors, like the patient's lifestyle, etc. Altough of course they're very important in real life.\n",
    "    You are asked to predict the {target_question} based on the patient description\\n\\n\"\"\"\n",
    "\n",
    "    for i, row in few_shot_subtable_X.iterrows():\n",
    "        description, result = create_string_description_from_row(few_shot_subtable_X.iloc[i], \n",
    "                                                                 few_shot_subtable_Y.iloc[i], \n",
    "                                                                 feature_names, target)\n",
    "        if i == 0:\n",
    "            template += f\"\"\"For example, this is a patient:\\n{description}. And this was the {result}\\n\\n\"\"\"\n",
    "        else:\n",
    "            template += f\"\"\"Here is another patient:\\n{description}. And this was the {result}\\n\\n\"\"\"\n",
    "\n",
    "    target_patient = create_string_description_from_row(target_patient_X, pd.Series([0]), feature_names, target)[0]\n",
    "    template += f\"\"\"Here is the description of the patient you need to give a prediction for:\\n{target_patient}.\n",
    "    \\nThink step-by step with bullet points of arguments, applying your knowledge about diabetes and the examples I've shown to you.\n",
    "    \\nCompare this particular patient to the examples I've shown to you and think about the differences and similarities.\n",
    "    \\nFirst, provide your reasoning. Then, print a single number of a prediction between *** and ***.\n",
    "    \\nIt's very important to print a number between *** and *** to be able to parse it later\\n\\n\"\"\"\n",
    "    return template"
   ]
  },
  {
   "attachments": {},
   "cell_type": "markdown",
   "metadata": {},
   "source": [
    "## LLM run"
   ]
  },
  {
   "cell_type": "code",
   "execution_count": 8,
   "metadata": {},
   "outputs": [],
   "source": [
    "N = 3\n",
    "# sample N rows from X_train\n",
    "x_train_i, y_train_i = X_train.iloc[:N],  Y_train.iloc[:N]\n",
    "\n",
    "X_test_prompts = []\n",
    "for i in range(X_test.shape[0]):\n",
    "    x_test_i = X_test.iloc[i]\n",
    "    prompt = create_n_shot_classification_prompt(x_train_i.reset_index(drop=True), \n",
    "                                                 y_train_i.reset_index(drop=True), x_test_i, target)\n",
    "    X_test_prompts.append(prompt)"
   ]
  },
  {
   "cell_type": "code",
   "execution_count": 9,
   "metadata": {},
   "outputs": [
    {
     "name": "stderr",
     "output_type": "stream",
     "text": [
      "/Users/oleksandrhonchar/miniforge3/lib/python3.9/site-packages/langchain/llms/openai.py:165: UserWarning: You are trying to use a chat model. This way of initializing it is no longer supported. Instead, please use: `from langchain.chat_models import ChatOpenAI`\n",
      "  warnings.warn(\n",
      "/Users/oleksandrhonchar/miniforge3/lib/python3.9/site-packages/langchain/llms/openai.py:676: UserWarning: You are trying to use a chat model. This way of initializing it is no longer supported. Instead, please use: `from langchain.chat_models import ChatOpenAI`\n",
      "  warnings.warn(\n",
      "100%|██████████| 10/10 [01:41<00:00, 10.14s/it]\n"
     ]
    }
   ],
   "source": [
    "llm = OpenAI(model_name='gpt-3.5-turbo', temperature=0, openai_api_key=OPENAI_API_KEY, request_timeout=120)\n",
    "# llm = OpenAI(model_name='gpt-4', temperature=0, openai_api_key=OPENAI_API_KEY, request_timeout=120)\n",
    "model = LinearRegression().fit(X_train, Y_train)\n",
    "\n",
    "Y_test_prompts = []\n",
    "for x_test_prompt in tqdm.tqdm(X_test_prompts):\n",
    "    Y_test_prompts.append(llm(x_test_prompt))\n",
    "\n",
    "Y_test_model_preds = model.predict(X_test)"
   ]
  },
  {
   "cell_type": "code",
   "execution_count": 10,
   "metadata": {},
   "outputs": [
    {
     "name": "stdout",
     "output_type": "stream",
     "text": [
      "Reasoning:\n",
      "\n",
      "- This patient is male, which is similar to the second patient in the examples.\n",
      "- The patient's age and body mass index are similar to the first and third patients in the examples.\n",
      "- The patient's blood pressure is similar to the third patient in the examples.\n",
      "- The patient's total serum cholesterol, low-density lipoproteins, and total cholesterol / HDL are higher than all the examples.\n",
      "- The patient's high-density lipoproteins are similar to the third patient in the examples.\n",
      "- The patient's blood sugar level and possibly log of serum triglycerides level are higher than all the examples.\n",
      "\n",
      "Based on these factors, it is likely that this patient will have a higher quantitative measure of disease progression one year after baseline compared to the examples.\n",
      "\n",
      "Prediction: ***180.00***\n",
      "----------------------------------------------------------------------------------------------------\n",
      "Reasoning:\n",
      "\n",
      "- The patient is relatively young and has a healthy body mass index and blood pressure, which are all positive factors for diabetes progression.\n",
      "- However, the patient has a high total serum cholesterol and low-density lipoproteins, which are negative factors for diabetes progression.\n",
      "- On the other hand, the patient has a high level of high-density lipoproteins, which is a positive factor for diabetes progression.\n",
      "- The total cholesterol / HDL ratio is within the normal range, which is a positive factor for diabetes progression.\n",
      "- The log of serum triglycerides level is also within the normal range, which is a positive factor for diabetes progression.\n",
      "- The blood sugar level is within the normal range, which is a positive factor for diabetes progression.\n",
      "\n",
      "Prediction: \n",
      "\n",
      "Based on the patient's characteristics and the examples provided, the quantitative measure of disease progression one year after baseline for this patient is estimated to be between ***100.00*** and ***120.00***.\n",
      "----------------------------------------------------------------------------------------------------\n",
      "Reasoning:\n",
      "\n",
      "- The patient is a 53-year-old male with a body mass index of 26.5, which is in the overweight range but not obese.\n",
      "- The patient's average blood pressure is 97, which is within the normal range.\n",
      "- The patient's total serum cholesterol is 193, which is high.\n",
      "- The patient's low-density lipoproteins (LDL) are 122.4, which is also high.\n",
      "- The patient's high-density lipoproteins (HDL) are 58, which is within the normal range.\n",
      "- The patient's total cholesterol/HDL ratio is 3, which is within the normal range.\n",
      "- The patient's blood sugar level is 99, which is within the prediabetes range.\n",
      "\n",
      "Comparison to previous examples:\n",
      "\n",
      "- The patient's age and sex are similar to the first and third examples.\n",
      "- The patient's body mass index is similar to the first example.\n",
      "- The patient's blood pressure is similar to the third example.\n",
      "- The patient's total serum cholesterol and LDL are higher than all previous examples.\n",
      "- The patient's HDL and total cholesterol/HDL ratio are similar to the second example.\n",
      "- The patient's blood sugar level is higher than all previous examples.\n",
      "\n",
      "Prediction:\n",
      "\n",
      "Based on the patient's high total serum cholesterol, high LDL, and prediabetes blood sugar level, it is likely that the patient will experience disease progression in the next year. However, since the patient's HDL and total cholesterol/HDL ratio are within the normal range, it is possible that the disease progression will be less severe than in the first and third examples. Therefore, the predicted quantitative measure of disease progression one year after baseline for this patient is ***120.00***.\n",
      "----------------------------------------------------------------------------------------------------\n",
      "Reasoning:\n",
      "\n",
      "- The patient is a 45-year-old male with a BMI of 24.2, which is within the normal range.\n",
      "- The patient's blood pressure is low, which is a good sign.\n",
      "- The patient's total serum cholesterol is high, and the LDL cholesterol is also high, which is a risk factor for diabetes.\n",
      "- The patient's HDL cholesterol is within the normal range, which is a good sign.\n",
      "- The patient's total cholesterol/HDL ratio is 4.0, which is within the normal range.\n",
      "- The patient's blood sugar level is within the normal range.\n",
      "\n",
      "Comparison to previous examples:\n",
      "\n",
      "- The patient's age and sex are similar to the second example, but the BMI is higher.\n",
      "- The patient's blood pressure is lower than all previous examples.\n",
      "- The patient's total serum cholesterol and LDL cholesterol are higher than the first and third examples, but lower than the second example.\n",
      "- The patient's HDL cholesterol and total cholesterol/HDL ratio are similar to all previous examples.\n",
      "- The patient's blood sugar level is similar to the first and third examples.\n",
      "\n",
      "Prediction:\n",
      "\n",
      "Based on the patient's description and the previous examples, it is likely that the patient's quantitative measure of disease progression one year after baseline will be around ***100.00***.\n",
      "----------------------------------------------------------------------------------------------------\n",
      "Reasoning:\n",
      "\n",
      "- The patient is relatively young (33 years old) and has a healthy body mass index (19.5), which are both positive factors for diabetes progression.\n",
      "- The patient's blood pressure (80) is also within a healthy range, which is another positive factor.\n",
      "- The patient's total serum cholesterol (171) and low-density lipoproteins (85.4) are slightly elevated compared to the first patient example, but still within a healthy range. The high-density lipoproteins (75) are higher than in any of the previous examples, which is a positive factor.\n",
      "- The total cholesterol / HDL ratio (2.0) is very low, which is a positive factor.\n",
      "- The log of serum triglycerides level (3.9703) is lower than in the first and third patient examples, which is a positive factor.\n",
      "- The blood sugar level (80) is within a healthy range.\n",
      "\n",
      "Based on these factors, it seems likely that the patient's disease progression will be relatively low.\n",
      "\n",
      "Prediction: \n",
      "\n",
      "***85.00***\n",
      "----------------------------------------------------------------------------------------------------\n",
      "Reasoning:\n",
      "\n",
      "- Age: The patient is 60 years old, which is similar to the first and third examples.\n",
      "- Sex: The patient is female, which is similar to the first and third examples.\n",
      "- Body Mass Index (BMI): The patient's BMI is 28.2, which is higher than the second example but lower than the first and third examples.\n",
      "- Average Blood Pressure: The patient's average blood pressure is 112.0, which is higher than all three examples.\n",
      "- Total Serum Cholesterol (tc): The patient's total serum cholesterol is 185.0, which is higher than all three examples.\n",
      "- Low-density lipoproteins (ldl): The patient's LDL is 113.8, which is higher than all three examples.\n",
      "- High-density lipoproteins (hdl): The patient's HDL is 42.0, which is similar to the first and third examples but lower than the second example.\n",
      "- Total Cholesterol / HDL (tch): The patient's TCH is 4.0, which is similar to all three examples.\n",
      "- Log of serum triglycerides level (ltg): The patient's LTG is 4.9836, which is higher than all three examples.\n",
      "- Blood sugar level (glu): The patient's blood sugar level is 93.0, which is higher than all three examples.\n",
      "\n",
      "Prediction: \n",
      "\n",
      "Based on the given variables and the examples provided, the quantitative measure of disease progression one year after baseline for this patient is estimated to be between ***130.00*** and ***160.00***.\n",
      "----------------------------------------------------------------------------------------------------\n",
      "Reasoning:\n",
      "\n",
      "- Age: The patient is relatively young compared to the other examples, which may indicate a lower risk of disease progression.\n",
      "- Sex: The patient is female, which may indicate a lower risk of disease progression compared to males.\n",
      "- Body mass index: The patient's BMI is within the normal range, which may indicate a lower risk of disease progression compared to patients with higher BMI.\n",
      "- Average blood pressure: The patient's blood pressure is lower than the other examples, which may indicate a lower risk of disease progression.\n",
      "- Total serum cholesterol: The patient's total serum cholesterol is higher than the other examples, which may indicate a higher risk of disease progression.\n",
      "- Low-density lipoproteins: The patient's LDL is higher than the other examples, which may indicate a higher risk of disease progression.\n",
      "- High-density lipoproteins: The patient's HDL is similar to the other examples, which may not have a significant impact on the risk of disease progression.\n",
      "- Total cholesterol / HDL: The patient's TCH/HDL ratio is higher than the other examples, which may indicate a higher risk of disease progression.\n",
      "- Log of serum triglycerides level: The patient's LTG is similar to the other examples, which may not have a significant impact on the risk of disease progression.\n",
      "- Blood sugar level: The patient's blood sugar level is higher than the other examples, which may indicate a higher risk of disease progression.\n",
      "\n",
      "Prediction: \n",
      "\n",
      "Based on the patient's characteristics and the examples provided, the quantitative measure of disease progression one year after baseline for this patient is estimated to be between ***120.00*** and ***170.00***.\n",
      "----------------------------------------------------------------------------------------------------\n",
      "Reasoning:\n",
      "\n",
      "- Age: The patient is 60 years old, which is similar to the first and third examples.\n",
      "- Sex: The patient is female, which is similar to the first and third examples.\n",
      "- Body mass index (BMI): The patient's BMI is 24.9, which is within the healthy range and lower than the first and third examples.\n",
      "- Average blood pressure: The patient's average blood pressure is 99.67, which is similar to the first and third examples.\n",
      "- Total serum cholesterol (tc): The patient's tc is 162.0, which is similar to the first and third examples.\n",
      "- Low-density lipoproteins (ldl): The patient's ldl is 106.6, which is higher than the first and third examples.\n",
      "- High-density lipoproteins (hdl): The patient's hdl is 43.0, which is similar to the first and third examples.\n",
      "- Total cholesterol / HDL (tch): The patient's tch is 3.77, which is lower than the first and third examples.\n",
      "- Possibly log of serum triglycerides level (ltg): The patient's ltg is 4.1271, which is similar to the first and third examples.\n",
      "- Blood sugar level (glu): The patient's glu is 95.0, which is higher than the first and third examples.\n",
      "\n",
      "Based on the similarities and differences with the examples provided, it is difficult to predict the quantitative measure of disease progression one year after baseline for this patient with high accuracy. However, based on the given variables, the most probable statistical estimate would be around ***120.00***.\n",
      "----------------------------------------------------------------------------------------------------\n",
      "Reasoning:\n",
      "\n",
      "- The patient is male, which is a similarity with the first patient.\n",
      "- The patient's age is relatively young compared to the other examples.\n",
      "- The patient's BMI is high, which is a similarity with the first and third patients.\n",
      "- The patient's blood pressure is high, which is a similarity with the third patient.\n",
      "- The patient's total serum cholesterol and LDL levels are high, which is a similarity with the third patient.\n",
      "- The patient's HDL level is relatively low, which is a similarity with the first and third patients.\n",
      "- The patient's total cholesterol/HDL ratio is high, which is a similarity with the first and third patients.\n",
      "- The patient's log of serum triglycerides level is high, which is a similarity with the first and third patients.\n",
      "- The patient's blood sugar level is normal, which is a similarity with all the examples.\n",
      "\n",
      "Prediction: \n",
      "\n",
      "Based on the similarities with the first and third patients, who had disease progression measures of 151.00 and 141.00 respectively, I predict that the quantitative measure of disease progression for this patient one year after baseline will be around ***145.00***.\n",
      "----------------------------------------------------------------------------------------------------\n",
      "Reasoning:\n",
      "\n",
      "- The patient is relatively young compared to the previous examples, which may suggest a lower risk of disease progression.\n",
      "- The patient has a low BMI, which is generally associated with a lower risk of diabetes.\n",
      "- The patient has a low blood pressure, which is also associated with a lower risk of diabetes.\n",
      "- The patient has a high total serum cholesterol and low-density lipoproteins, which may suggest a higher risk of diabetes.\n",
      "- However, the patient also has a high level of high-density lipoproteins, which is associated with a lower risk of diabetes.\n",
      "- The patient has a low total cholesterol / HDL ratio, which is also associated with a lower risk of diabetes.\n",
      "- The patient has a high blood sugar level, which is a risk factor for diabetes.\n",
      "\n",
      "Prediction: \n",
      "\n",
      "Based on the patient's characteristics, the most probable statistical estimate for the quantitative measure of disease progression one year after baseline is between ***100.00*** and ***120.00***.\n",
      "----------------------------------------------------------------------------------------------------\n"
     ]
    }
   ],
   "source": [
    "for y in Y_test_prompts:\n",
    "    print(y)\n",
    "    print(\"----------\" * 10)"
   ]
  },
  {
   "attachments": {},
   "cell_type": "markdown",
   "metadata": {},
   "source": [
    "## Evaluation"
   ]
  },
  {
   "cell_type": "code",
   "execution_count": 11,
   "metadata": {},
   "outputs": [],
   "source": [
    "from sklearn.metrics import mean_squared_error, mean_absolute_error, r2_score"
   ]
  },
  {
   "cell_type": "code",
   "execution_count": 12,
   "metadata": {},
   "outputs": [],
   "source": [
    "# select all the numbers that are between *** and *** in the string and return them as a list\n",
    "def extract_predictions_from_string(string):\n",
    "    import re\n",
    "    return re.findall(r'\\*\\*\\*(.*?)\\*\\*\\*', string)\n",
    "\n",
    "# from each found substring extract the numbers only\n",
    "def extract_numbers_from_string(string):\n",
    "    import re\n",
    "    return [float(s) for s in re.findall(r'-?\\d+\\.?\\d*', string)]\n",
    "\n",
    "def combined_answer_postprocessing(answer):\n",
    "    potential_answers = extract_predictions_from_string(answer)\n",
    "    all_numbers = []\n",
    "    for answer_i in potential_answers:\n",
    "        all_numbers.extend(extract_numbers_from_string(answer_i))\n",
    "    return np.mean(all_numbers)"
   ]
  },
  {
   "cell_type": "code",
   "execution_count": 13,
   "metadata": {},
   "outputs": [
    {
     "name": "stdout",
     "output_type": "stream",
     "text": [
      "Real value: 173.0\n",
      "LLM prediction: 180.0\n",
      "ML prediction: 220.08187194705192\n",
      "----------------------------------------------------------------------------------------------------\n",
      "Real value: 72.0\n",
      "LLM prediction: 110.0\n",
      "ML prediction: 60.91099270632253\n",
      "----------------------------------------------------------------------------------------------------\n",
      "Real value: 49.0\n",
      "LLM prediction: 120.0\n",
      "ML prediction: 133.06488217107596\n",
      "----------------------------------------------------------------------------------------------------\n",
      "Real value: 64.0\n",
      "LLM prediction: 100.0\n",
      "ML prediction: 120.50409444033824\n",
      "----------------------------------------------------------------------------------------------------\n",
      "Real value: 48.0\n",
      "LLM prediction: 85.0\n",
      "ML prediction: 52.70761168764511\n",
      "----------------------------------------------------------------------------------------------------\n",
      "Real value: 178.0\n",
      "LLM prediction: 145.0\n",
      "ML prediction: 193.37298168201778\n",
      "----------------------------------------------------------------------------------------------------\n",
      "Real value: 104.0\n",
      "LLM prediction: 145.0\n",
      "ML prediction: 102.34271737442134\n",
      "----------------------------------------------------------------------------------------------------\n",
      "Real value: 132.0\n",
      "LLM prediction: 120.0\n",
      "ML prediction: 122.0346620368947\n",
      "----------------------------------------------------------------------------------------------------\n",
      "Real value: 220.0\n",
      "LLM prediction: 145.0\n",
      "ML prediction: 212.22077715019657\n",
      "----------------------------------------------------------------------------------------------------\n",
      "Real value: 57.0\n",
      "LLM prediction: 110.0\n",
      "ML prediction: 52.418422455445125\n",
      "----------------------------------------------------------------------------------------------------\n"
     ]
    }
   ],
   "source": [
    "Y_test_prompt_numbers = []\n",
    "for y, y_model, y_real in zip(Y_test_prompts, Y_test_model_preds, Y_test[target].values):\n",
    "    y_pred = combined_answer_postprocessing(y)\n",
    "    Y_test_prompt_numbers.append(float(y_pred))\n",
    "    print(f\"Real value: {y_real}\")\n",
    "    print(f\"LLM prediction: {y_pred}\")\n",
    "    print(f\"ML prediction: {y_model[0]}\")\n",
    "    print(\"----------\" * 10)"
   ]
  },
  {
   "cell_type": "code",
   "execution_count": 14,
   "metadata": {},
   "outputs": [
    {
     "data": {
      "text/plain": [
       "(40.3, 2054.7, 0.41538321463832395)"
      ]
     },
     "execution_count": 14,
     "metadata": {},
     "output_type": "execute_result"
    }
   ],
   "source": [
    "mean_absolute_error(Y_test[target], Y_test_prompt_numbers), mean_squared_error(Y_test[target], Y_test_prompt_numbers), r2_score(Y_test[target], Y_test_prompt_numbers)"
   ]
  },
  {
   "cell_type": "code",
   "execution_count": 15,
   "metadata": {},
   "outputs": [
    {
     "data": {
      "text/plain": [
       "(24.280387020484874, 1304.1337732718307, 0.6289392640230834)"
      ]
     },
     "execution_count": 15,
     "metadata": {},
     "output_type": "execute_result"
    }
   ],
   "source": [
    "mean_absolute_error(Y_test[target], Y_test_model_preds), mean_squared_error(Y_test[target], Y_test_model_preds), r2_score(Y_test[target], Y_test_model_preds)"
   ]
  }
 ],
 "metadata": {
  "kernelspec": {
   "display_name": "Python 3",
   "language": "python",
   "name": "python3"
  },
  "language_info": {
   "codemirror_mode": {
    "name": "ipython",
    "version": 3
   },
   "file_extension": ".py",
   "mimetype": "text/x-python",
   "name": "python",
   "nbconvert_exporter": "python",
   "pygments_lexer": "ipython3",
   "version": "3.9.6"
  },
  "orig_nbformat": 4
 },
 "nbformat": 4,
 "nbformat_minor": 2
}
